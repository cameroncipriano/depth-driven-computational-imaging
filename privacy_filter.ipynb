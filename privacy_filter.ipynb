{
 "cells": [
  {
   "cell_type": "markdown",
   "metadata": {},
   "source": [
    "# EC520 Image Processing and Communication\n",
    "## Privacy Filter\n",
    "Cameron Cipriano, Molly Housego\n",
    "\n",
    "Depth-Driven Computational Imaging: Privacy Filter\n",
    "\n",
    "The goal of the privacy filter is to identify people's faces in a scene and minimally distort them such that a facial recognition system will be unable to determine who it is. To perform minimal facial distortion, RGB and RGB+D Images were captured of a scene:\n",
    "1. Facial Detection finds each face present in the image\n",
    "2. Facial bounding boxes projected into RGB+D images to determine which points are facial pixels\n",
    "3. Facial pixel coordinates reprojected to 2D image to define outline of face\n",
    "4. Blur is applied to facial region and non-facial pixels are re-inserted to only distort the face.\n",
    "\n",
    "Facial Detection implemented using a Haar Cascade Classifier\n",
    "\n",
    "Facial recognition was implemented using a covariance matrix approach with Nearest Neighbor matching."
   ]
  },
  {
   "cell_type": "markdown",
   "metadata": {},
   "source": [
    "## Imports"
   ]
  },
  {
   "cell_type": "code",
   "execution_count": 76,
   "metadata": {},
   "outputs": [],
   "source": [
    "import os\n",
    "import cv2 as cv\n",
    "import mediapipe as mp\n",
    "import numpy as np\n",
    "from glob import glob\n",
    "import pptk\n",
    "import csv\n",
    "from tqdm.notebook import tqdm"
   ]
  },
  {
   "cell_type": "markdown",
   "metadata": {},
   "source": [
    "## Helper Functions"
   ]
  },
  {
   "cell_type": "code",
   "execution_count": 118,
   "metadata": {},
   "outputs": [],
   "source": [
    "def cleanDirectories(bbox_path, blur_path):\n",
    "    bbox_image_names = glob(os.path.join(bbox_path, '*.jpg'))\n",
    "    blur_image_names = glob(os.path.join(blur_path, '*.jpg'))\n",
    "\n",
    "    for (bbox_img, blur_img) in zip(bbox_image_names, blur_image_names):\n",
    "        try:\n",
    "            os.remove(bbox_img)\n",
    "            os.remove(blur_img)\n",
    "        except OSError as e:\n",
    "            print(f'Error: {e.strerror}')\n",
    "\n",
    "def loadPointClouds(path):\n",
    "    pointcloud_filenames = sorted(glob(os.path.join(path, '*.csv')))\n",
    "    pointclouds = {}\n",
    "    # Setup Progress bar\n",
    "    iterations = tqdm(pointcloud_filenames, unit='Files')\n",
    "    for file_idx, csvfile in enumerate(iterations):\n",
    "        # each point cloud is 39,963 points, each with xyz and rgb values\n",
    "        pointclouds[file_idx] = {'points': np.zeros((39963,3)), 'colors': np.zeros((39963,3))}\n",
    "        with open(csvfile, newline='') as pointcloud_file:\n",
    "            iterations.set_description(f\"Parsing: '{pointcloud_file.name}'\")\n",
    "            point_reader = csv.reader(pointcloud_file)\n",
    "            for point_idx, point_vals in enumerate(point_reader):\n",
    "                # xyx for current point cloud\n",
    "                pointclouds[file_idx]['points'][point_idx, 0] = point_vals[0]\n",
    "                pointclouds[file_idx]['points'][point_idx, 1] = point_vals[1]\n",
    "                pointclouds[file_idx]['points'][point_idx, 2] = point_vals[2]\n",
    "\n",
    "                # RGB for current point cloud\n",
    "                pointclouds[file_idx]['colors'][point_idx, 0] = point_vals[3]\n",
    "                pointclouds[file_idx]['colors'][point_idx, 1] = point_vals[4]\n",
    "                pointclouds[file_idx]['colors'][point_idx, 2] = point_vals[5]\n",
    "    \n",
    "    return pointclouds\n",
    "\n",
    "def loadImages(path):\n",
    "    # Read Images containing faces\n",
    "    image_filenames = sorted(glob(os.path.join(path, '*.jpg')))\n",
    "    \n",
    "    # Setup Progress bar\n",
    "    image_iterations = tqdm(image_filenames, unit='Images')\n",
    "    \n",
    "    images = []\n",
    "    for filename in image_iterations:\n",
    "        image_iterations.set_description(f\"Loading: '{filename}'\")\n",
    "        images.append(cv.imread(filename))\n",
    "    \n",
    "    return np.array(images)\n",
    "    "
   ]
  },
  {
   "cell_type": "markdown",
   "metadata": {},
   "source": [
    "## Main Algorithm Functions"
   ]
  },
  {
   "cell_type": "code",
   "execution_count": 210,
   "metadata": {},
   "outputs": [],
   "source": [
    "def detectFaces(images, classifier):\n",
    "    \"\"\"\n",
    "    Function for detecting faces\n",
    "\n",
    "    Returns list of rectangles\n",
    "    \"\"\"\n",
    "    detection_iterations = tqdm(images, unit='Image')\n",
    "\n",
    "    face_bboxes = {}\n",
    "    detected_faces = []\n",
    "    for img_idx, frame in enumerate(detection_iterations):\n",
    "        detection_iterations.set_description('Detecting Faces')\n",
    "        frame_gray = cv.cvtColor(frame, cv.COLOR_BGR2GRAY)\n",
    "\n",
    "        # Histogram equalization to improve contrast and make grayscale image more uniform\n",
    "        frame_gray = cv.equalizeHist(frame_gray)\n",
    "\n",
    "        #-- Detect faces\n",
    "        faces = classifier.detectMultiScale(frame_gray, scaleFactor=1.01, minNeighbors=7, minSize=(175, 175), maxSize=(300, 300), flags=cv.CASCADE_SCALE_IMAGE)\n",
    "        # faces = classifier.detectMultiScale(frame_gray, scaleFactor=1.05, minNeighbors=6, minSize=(175, 175), maxSize=(300, 300), flags=cv.CASCADE_SCALE_IMAGE)\n",
    "\n",
    "        for (x,y,w,h) in faces:\n",
    "            # COLOR IS BGR!\n",
    "            frame = cv.rectangle(frame, (x, y), (x + w, y + h), (0, 0, 255), 2)\n",
    "\n",
    "        face_bboxes[img_idx] = faces\n",
    "        detected_faces.append(frame)\n",
    "\n",
    "    return np.array(detected_faces), face_bboxes\n",
    "\n",
    "def recoverFaceOutlines(images, bboxes, P_mat, pointclouds):\n",
    "    pointcloud_viewer = pptk.viewer(pointclouds[2]['points'], pointclouds[2]['colors']/255)\n",
    "    pointcloud_viewer.set(lookat=np.zeros((3,1)), phi=-np.pi/2, theta=0, point_size=2)\n",
    "    pointcloud_viewer.wait()\n",
    "    pointcloud_viewer.close()\n",
    "\n",
    "def blurFaceOutlines():\n",
    "    # blurLevels = np.ones((1, images.shape[1]))\n",
    "    # images_with_blurred_faces = np.empty(())\n",
    "    # for img_idx, blurLevel in enumerate(blurLevels):\n",
    "    #     images_with_blurred_faces[img_idx] = blurFaces(images_with_faces, face_indices, blurLevel)\n",
    "    pass\n",
    "\n",
    "\n",
    "\n",
    "def blurRectangularRegion(frame, regions):\n",
    "    for region in regions:\n",
    "        (x, y, w, h) = region\n",
    "        ROI = frame[y:y+h, x:x+w]\n",
    "        blur = cv.GaussianBlur(ROI, (51, 51), 5)\n",
    "        frame[y:y+h, x:x+w] = blur\n",
    "\n",
    "    return frame"
   ]
  },
  {
   "cell_type": "markdown",
   "metadata": {},
   "source": [
    "## Runner"
   ]
  },
  {
   "cell_type": "code",
   "execution_count": 212,
   "metadata": {},
   "outputs": [
    {
     "data": {
      "application/vnd.jupyter.widget-view+json": {
       "model_id": "9c66dedf0f814fa3afc73c8c6fe6f953",
       "version_major": 2,
       "version_minor": 0
      },
      "text/plain": [
       "  0%|          | 0/8 [00:00<?, ?Images/s]"
      ]
     },
     "metadata": {},
     "output_type": "display_data"
    },
    {
     "data": {
      "text/plain": [
       "-1"
      ]
     },
     "execution_count": 212,
     "metadata": {},
     "output_type": "execute_result"
    }
   ],
   "source": [
    "input_img_path = 'images/jpg'\n",
    "blurred_img_path = 'images/jpg/blurred'\n",
    "bbox_img_path = 'images/jpg/bounding_boxes'\n",
    "pointcloud_path = 'pointclouds'\n",
    "\n",
    "# Make sure output directories are empty\n",
    "cleanDirectories(bbox_img_path, blurred_img_path)\n",
    "\n",
    "# Load in the Facial Detection classifiers\n",
    "face_cascade_alt2 = cv.CascadeClassifier('cascades/haarcascade_frontalface_alt2.xml')\n",
    "\n",
    "images                         = loadImages(input_img_path)\n",
    "pointclouds                    = loadPointClouds(pointcloud_path)\n",
    "images_with_faces, face_bboxes = detectFaces(images, face_cascade_alt2)\n",
    "output_tbd                     = recoverFaceOutlines(images, face_bboxes, None, pointclouds)\n",
    "# blurred_images                 = blurFaceOutlines(images, face_bboxes, output_tbd)\n",
    "\n",
    "\n",
    "for i in range(len(images_with_faces)):\n",
    "    width = int(images_with_faces[i].shape[1]* 0.4)\n",
    "    height = int(images_with_faces[i].shape[0] * 0.4)\n",
    "\n",
    "    img_tree = cv.resize(images_with_faces[i], (width, height), interpolation=cv.INTER_AREA)\n",
    "    \n",
    "    cv.imshow('Tree', img_tree)\n",
    "    cv.waitKey(0)\n",
    "\n",
    "cv.destroyAllWindows()\n",
    "cv.waitKey(1)"
   ]
  }
 ],
 "metadata": {
  "interpreter": {
   "hash": "1373ee5c41634514af23980f60d0958fc0f2d6819915eababf22cdf09658028c"
  },
  "kernelspec": {
   "display_name": "Python 3.7.11 ('ec520_final_project')",
   "language": "python",
   "name": "python3"
  },
  "language_info": {
   "codemirror_mode": {
    "name": "ipython",
    "version": 3
   },
   "file_extension": ".py",
   "mimetype": "text/x-python",
   "name": "python",
   "nbconvert_exporter": "python",
   "pygments_lexer": "ipython3",
   "version": "3.6.13"
  },
  "orig_nbformat": 4
 },
 "nbformat": 4,
 "nbformat_minor": 2
}
