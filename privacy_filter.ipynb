{
 "cells": [
  {
   "cell_type": "code",
   "execution_count": 1,
   "metadata": {},
   "outputs": [],
   "source": [
    "import cv2 as cv\n",
    "import numpy as np\n",
    "from glob import glob\n"
   ]
  },
  {
   "cell_type": "code",
   "execution_count": 5,
   "metadata": {},
   "outputs": [],
   "source": [
    "def detectAndDisplay(frame, index):\n",
    "    \"\"\"\n",
    "    Function for detecting faces and displaying them over the original image\n",
    "\n",
    "    Returns list of rectangles\n",
    "    \"\"\"\n",
    "    frame_gray = cv.cvtColor(frame, cv.COLOR_BGR2GRAY)\n",
    "\n",
    "    # Histogram equalization to improve contrast and make grayscale image more uniform\n",
    "    frame_gray = cv.equalizeHist(frame_gray)\n",
    "\n",
    "    #-- Detect faces\n",
    "    faces = face_cascade.detectMultiScale(frame_gray, scaleFactor=1.3, minNeighbors=4, minSize=(30,30), flags=cv.CASCADE_SCALE_IMAGE)\n",
    "    for (x,y,w,h) in faces:\n",
    "        frame = cv.rectangle(frame, (x, y), (x + w, y + h), (255, 0, 0), 2)\n",
    "        \n",
    "    cv.imwrite(f'./images/jpg/bounding_boxes/{index}.jpg', frame)\n",
    "    cv.imshow('Capture - Face detection ', frame)\n",
    "\n",
    "    return faces\n",
    "\n",
    "def blurRegion(frame, regions, index):\n",
    "    for region in regions:\n",
    "        (x, y, w, h) = region\n",
    "        ROI = frame[y:y+h, x:x+w]\n",
    "        blur = cv.GaussianBlur(ROI, (51, 51), 5)\n",
    "        frame[y:y+h, x:x+w] = blur\n",
    "\n",
    "    cv.imwrite(f'./images/jpg/blurred/{index}.jpg', frame)\n",
    "    cv.imshow('Capture - Face detection with blur', frame)\n",
    "    "
   ]
  },
  {
   "cell_type": "code",
   "execution_count": null,
   "metadata": {},
   "outputs": [],
   "source": [
    "face_cascade = cv.CascadeClassifier('haarcascade_frontalface_default.xml')\n",
    "image_filenames = sorted(glob('./images/jpg/*.jpeg'))\n",
    "images = [cv.imread(filename) for filename in image_filenames]\n",
    "\n",
    "blurred_images = []\n",
    "for i, img in enumerate(images):\n",
    "    bboxes = detectAndDisplay(img, i)\n",
    "    blurred_image = blurRegion(img, bboxes, i)\n",
    "    blurred_images.append(blurred_image)\n",
    "    cv.waitKey(0)\n",
    "\n",
    "cv.destroyAllWindows()\n",
    "cv.waitKey(1)"
   ]
  },
  {
   "cell_type": "code",
   "execution_count": null,
   "metadata": {},
   "outputs": [],
   "source": []
  }
 ],
 "metadata": {
  "interpreter": {
   "hash": "1373ee5c41634514af23980f60d0958fc0f2d6819915eababf22cdf09658028c"
  },
  "kernelspec": {
   "display_name": "Python 3.7.11 ('ec520_final_project')",
   "language": "python",
   "name": "python3"
  },
  "language_info": {
   "codemirror_mode": {
    "name": "ipython",
    "version": 3
   },
   "file_extension": ".py",
   "mimetype": "text/x-python",
   "name": "python",
   "nbconvert_exporter": "python",
   "pygments_lexer": "ipython3",
   "version": "3.7.11"
  },
  "orig_nbformat": 4
 },
 "nbformat": 4,
 "nbformat_minor": 2
}
